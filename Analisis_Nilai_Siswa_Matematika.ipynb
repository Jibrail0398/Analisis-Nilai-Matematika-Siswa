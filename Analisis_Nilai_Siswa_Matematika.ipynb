{
  "cells": [
    {
      "cell_type": "markdown",
      "metadata": {
        "id": "1yjmF2NbzXLu"
      },
      "source": [
        "<h1>Sekilas Tentang Dataset<h1>"
      ]
    },
    {
      "cell_type": "markdown",
      "metadata": {
        "id": "Q4Rf4i1vzfUN"
      },
      "source": [
        "Pada proyek ini, saya menggunakan dataset dari www.kaggle.com. Dataset ini berisi data nilai Matematika 500 siswa SMP kelas 8 dari suatu sekolah. Siswa siswa ini terbagi menjadi 4 kategori ras yaitu, Afrika-Amerika,Asia,Hispanic,dan Kaukasia. Selain itu, Sekolah ini beragam secara sosial ekonomi dengan beberapa siswa yang memenuhi syarat untuk mendapatkan makanan gratis atau dengan harga yang lebih murah.\n",
        "\n",
        "Siswa-siswa disini terbagi oleh 3 Guru yang mengajar, yaitu Ms.Ruger, Ms. Wesson, dan Ms. Smith. Ms Wesson mengajar siswa-siswanya dengan metode ajar \n",
        "tradisional sedangkan Ms. Ruger dan Ms. Smith menggunakan metode ajar berbasis standar. Metode tradisional menganut pendekatan top-down di mana pengetahuan berasal dari guru dan disebarluaskan kepada siswa. Sedangkan dalam metode berbasis standar guru memfasilitasi pembelajaran dalam lingkungan konstruktivis di mana siswa mengembangkan, mengeksplorasi, menduga dan menguji dugaan mereka dalam batas-batas standar. \n",
        "\n"
      ]
    },
    {
      "cell_type": "markdown",
      "metadata": {
        "id": "i8xmpjfm-CSZ"
      },
      "source": [
        "<h1>Proses Load Dataset<h1>"
      ]
    },
    {
      "cell_type": "code",
      "execution_count": 1,
      "metadata": {
        "colab": {
          "base_uri": "https://localhost:8080/"
        },
        "id": "e6STc5q5qZ8u",
        "outputId": "0e42dd84-6b17-4e43-e18b-1ab94aa71765"
      },
      "outputs": [
        {
          "output_type": "stream",
          "name": "stdout",
          "text": [
            "Requirement already satisfied: pyreadstat in /usr/local/lib/python3.7/dist-packages (1.1.4)\n",
            "Requirement already satisfied: pandas>=1.2.0 in /usr/local/lib/python3.7/dist-packages (from pyreadstat) (1.3.5)\n",
            "Requirement already satisfied: numpy>=1.17.3 in /usr/local/lib/python3.7/dist-packages (from pandas>=1.2.0->pyreadstat) (1.21.5)\n",
            "Requirement already satisfied: pytz>=2017.3 in /usr/local/lib/python3.7/dist-packages (from pandas>=1.2.0->pyreadstat) (2018.9)\n",
            "Requirement already satisfied: python-dateutil>=2.7.3 in /usr/local/lib/python3.7/dist-packages (from pandas>=1.2.0->pyreadstat) (2.8.2)\n",
            "Requirement already satisfied: six>=1.5 in /usr/local/lib/python3.7/dist-packages (from python-dateutil>=2.7.3->pandas>=1.2.0->pyreadstat) (1.15.0)\n"
          ]
        }
      ],
      "source": [
        "! pip install pyreadstat"
      ]
    },
    {
      "cell_type": "code",
      "execution_count": 2,
      "metadata": {
        "colab": {
          "base_uri": "https://localhost:8080/"
        },
        "id": "bRVJnLF09cTy",
        "outputId": "2a08a44f-9b99-445f-bab1-ae0d914829e1"
      },
      "outputs": [
        {
          "output_type": "stream",
          "name": "stdout",
          "text": [
            "Requirement already satisfied: matplotlib in /usr/local/lib/python3.7/dist-packages (3.5.1)\n",
            "Requirement already satisfied: packaging>=20.0 in /usr/local/lib/python3.7/dist-packages (from matplotlib) (21.3)\n",
            "Requirement already satisfied: numpy>=1.17 in /usr/local/lib/python3.7/dist-packages (from matplotlib) (1.21.5)\n",
            "Requirement already satisfied: python-dateutil>=2.7 in /usr/local/lib/python3.7/dist-packages (from matplotlib) (2.8.2)\n",
            "Requirement already satisfied: fonttools>=4.22.0 in /usr/local/lib/python3.7/dist-packages (from matplotlib) (4.32.0)\n",
            "Requirement already satisfied: kiwisolver>=1.0.1 in /usr/local/lib/python3.7/dist-packages (from matplotlib) (1.4.0)\n",
            "Requirement already satisfied: pillow>=6.2.0 in /usr/local/lib/python3.7/dist-packages (from matplotlib) (7.1.2)\n",
            "Requirement already satisfied: pyparsing>=2.2.1 in /usr/local/lib/python3.7/dist-packages (from matplotlib) (3.0.7)\n",
            "Requirement already satisfied: cycler>=0.10 in /usr/local/lib/python3.7/dist-packages (from matplotlib) (0.11.0)\n",
            "Requirement already satisfied: typing-extensions in /usr/local/lib/python3.7/dist-packages (from kiwisolver>=1.0.1->matplotlib) (3.10.0.2)\n",
            "Requirement already satisfied: six>=1.5 in /usr/local/lib/python3.7/dist-packages (from python-dateutil>=2.7->matplotlib) (1.15.0)\n"
          ]
        }
      ],
      "source": [
        "!pip install --upgrade matplotlib"
      ]
    },
    {
      "cell_type": "code",
      "execution_count": 3,
      "metadata": {
        "id": "gsQnuadtjmr4"
      },
      "outputs": [],
      "source": [
        "import pandas as pd\n",
        "import matplotlib.pyplot as plt\n",
        "import seaborn as sns\n"
      ]
    },
    {
      "cell_type": "code",
      "execution_count": 4,
      "metadata": {
        "id": "ukhBdaLtP1aU"
      },
      "outputs": [],
      "source": [
        " df = pd.read_spss('1ResearchProjectData.sav')"
      ]
    },
    {
      "cell_type": "code",
      "execution_count": 5,
      "metadata": {
        "colab": {
          "base_uri": "https://localhost:8080/",
          "height": 206
        },
        "id": "JdkS41uXoe_b",
        "outputId": "883cb7e9-71d9-4bde-8761-e6135b10a477"
      },
      "outputs": [
        {
          "output_type": "execute_result",
          "data": {
            "text/plain": [
              "   Student Teacher  Gender            Ethnic    Freeredu  Score       wesson\n",
              "0      1.0   Ruger  Female             Asian  Free lunch   76.0  Ruger_Smith\n",
              "1      2.0   Ruger  Female          Hispanic  Paid lunch   56.0  Ruger_Smith\n",
              "2      3.0   Ruger  Female  African-American  Free lunch   34.0  Ruger_Smith\n",
              "3      4.0   Ruger  Female             Asian  Paid lunch   59.0  Ruger_Smith\n",
              "4      5.0   Ruger    Male          Hispanic  Free lunch   73.0  Ruger_Smith"
            ],
            "text/html": [
              "\n",
              "  <div id=\"df-a0754433-e6a3-456b-9459-cf24fdd45887\">\n",
              "    <div class=\"colab-df-container\">\n",
              "      <div>\n",
              "<style scoped>\n",
              "    .dataframe tbody tr th:only-of-type {\n",
              "        vertical-align: middle;\n",
              "    }\n",
              "\n",
              "    .dataframe tbody tr th {\n",
              "        vertical-align: top;\n",
              "    }\n",
              "\n",
              "    .dataframe thead th {\n",
              "        text-align: right;\n",
              "    }\n",
              "</style>\n",
              "<table border=\"1\" class=\"dataframe\">\n",
              "  <thead>\n",
              "    <tr style=\"text-align: right;\">\n",
              "      <th></th>\n",
              "      <th>Student</th>\n",
              "      <th>Teacher</th>\n",
              "      <th>Gender</th>\n",
              "      <th>Ethnic</th>\n",
              "      <th>Freeredu</th>\n",
              "      <th>Score</th>\n",
              "      <th>wesson</th>\n",
              "    </tr>\n",
              "  </thead>\n",
              "  <tbody>\n",
              "    <tr>\n",
              "      <th>0</th>\n",
              "      <td>1.0</td>\n",
              "      <td>Ruger</td>\n",
              "      <td>Female</td>\n",
              "      <td>Asian</td>\n",
              "      <td>Free lunch</td>\n",
              "      <td>76.0</td>\n",
              "      <td>Ruger_Smith</td>\n",
              "    </tr>\n",
              "    <tr>\n",
              "      <th>1</th>\n",
              "      <td>2.0</td>\n",
              "      <td>Ruger</td>\n",
              "      <td>Female</td>\n",
              "      <td>Hispanic</td>\n",
              "      <td>Paid lunch</td>\n",
              "      <td>56.0</td>\n",
              "      <td>Ruger_Smith</td>\n",
              "    </tr>\n",
              "    <tr>\n",
              "      <th>2</th>\n",
              "      <td>3.0</td>\n",
              "      <td>Ruger</td>\n",
              "      <td>Female</td>\n",
              "      <td>African-American</td>\n",
              "      <td>Free lunch</td>\n",
              "      <td>34.0</td>\n",
              "      <td>Ruger_Smith</td>\n",
              "    </tr>\n",
              "    <tr>\n",
              "      <th>3</th>\n",
              "      <td>4.0</td>\n",
              "      <td>Ruger</td>\n",
              "      <td>Female</td>\n",
              "      <td>Asian</td>\n",
              "      <td>Paid lunch</td>\n",
              "      <td>59.0</td>\n",
              "      <td>Ruger_Smith</td>\n",
              "    </tr>\n",
              "    <tr>\n",
              "      <th>4</th>\n",
              "      <td>5.0</td>\n",
              "      <td>Ruger</td>\n",
              "      <td>Male</td>\n",
              "      <td>Hispanic</td>\n",
              "      <td>Free lunch</td>\n",
              "      <td>73.0</td>\n",
              "      <td>Ruger_Smith</td>\n",
              "    </tr>\n",
              "  </tbody>\n",
              "</table>\n",
              "</div>\n",
              "      <button class=\"colab-df-convert\" onclick=\"convertToInteractive('df-a0754433-e6a3-456b-9459-cf24fdd45887')\"\n",
              "              title=\"Convert this dataframe to an interactive table.\"\n",
              "              style=\"display:none;\">\n",
              "        \n",
              "  <svg xmlns=\"http://www.w3.org/2000/svg\" height=\"24px\"viewBox=\"0 0 24 24\"\n",
              "       width=\"24px\">\n",
              "    <path d=\"M0 0h24v24H0V0z\" fill=\"none\"/>\n",
              "    <path d=\"M18.56 5.44l.94 2.06.94-2.06 2.06-.94-2.06-.94-.94-2.06-.94 2.06-2.06.94zm-11 1L8.5 8.5l.94-2.06 2.06-.94-2.06-.94L8.5 2.5l-.94 2.06-2.06.94zm10 10l.94 2.06.94-2.06 2.06-.94-2.06-.94-.94-2.06-.94 2.06-2.06.94z\"/><path d=\"M17.41 7.96l-1.37-1.37c-.4-.4-.92-.59-1.43-.59-.52 0-1.04.2-1.43.59L10.3 9.45l-7.72 7.72c-.78.78-.78 2.05 0 2.83L4 21.41c.39.39.9.59 1.41.59.51 0 1.02-.2 1.41-.59l7.78-7.78 2.81-2.81c.8-.78.8-2.07 0-2.86zM5.41 20L4 18.59l7.72-7.72 1.47 1.35L5.41 20z\"/>\n",
              "  </svg>\n",
              "      </button>\n",
              "      \n",
              "  <style>\n",
              "    .colab-df-container {\n",
              "      display:flex;\n",
              "      flex-wrap:wrap;\n",
              "      gap: 12px;\n",
              "    }\n",
              "\n",
              "    .colab-df-convert {\n",
              "      background-color: #E8F0FE;\n",
              "      border: none;\n",
              "      border-radius: 50%;\n",
              "      cursor: pointer;\n",
              "      display: none;\n",
              "      fill: #1967D2;\n",
              "      height: 32px;\n",
              "      padding: 0 0 0 0;\n",
              "      width: 32px;\n",
              "    }\n",
              "\n",
              "    .colab-df-convert:hover {\n",
              "      background-color: #E2EBFA;\n",
              "      box-shadow: 0px 1px 2px rgba(60, 64, 67, 0.3), 0px 1px 3px 1px rgba(60, 64, 67, 0.15);\n",
              "      fill: #174EA6;\n",
              "    }\n",
              "\n",
              "    [theme=dark] .colab-df-convert {\n",
              "      background-color: #3B4455;\n",
              "      fill: #D2E3FC;\n",
              "    }\n",
              "\n",
              "    [theme=dark] .colab-df-convert:hover {\n",
              "      background-color: #434B5C;\n",
              "      box-shadow: 0px 1px 3px 1px rgba(0, 0, 0, 0.15);\n",
              "      filter: drop-shadow(0px 1px 2px rgba(0, 0, 0, 0.3));\n",
              "      fill: #FFFFFF;\n",
              "    }\n",
              "  </style>\n",
              "\n",
              "      <script>\n",
              "        const buttonEl =\n",
              "          document.querySelector('#df-a0754433-e6a3-456b-9459-cf24fdd45887 button.colab-df-convert');\n",
              "        buttonEl.style.display =\n",
              "          google.colab.kernel.accessAllowed ? 'block' : 'none';\n",
              "\n",
              "        async function convertToInteractive(key) {\n",
              "          const element = document.querySelector('#df-a0754433-e6a3-456b-9459-cf24fdd45887');\n",
              "          const dataTable =\n",
              "            await google.colab.kernel.invokeFunction('convertToInteractive',\n",
              "                                                     [key], {});\n",
              "          if (!dataTable) return;\n",
              "\n",
              "          const docLinkHtml = 'Like what you see? Visit the ' +\n",
              "            '<a target=\"_blank\" href=https://colab.research.google.com/notebooks/data_table.ipynb>data table notebook</a>'\n",
              "            + ' to learn more about interactive tables.';\n",
              "          element.innerHTML = '';\n",
              "          dataTable['output_type'] = 'display_data';\n",
              "          await google.colab.output.renderOutput(dataTable, element);\n",
              "          const docLink = document.createElement('div');\n",
              "          docLink.innerHTML = docLinkHtml;\n",
              "          element.appendChild(docLink);\n",
              "        }\n",
              "      </script>\n",
              "    </div>\n",
              "  </div>\n",
              "  "
            ]
          },
          "metadata": {},
          "execution_count": 5
        }
      ],
      "source": [
        "df.head()"
      ]
    },
    {
      "cell_type": "code",
      "execution_count": 6,
      "metadata": {
        "colab": {
          "base_uri": "https://localhost:8080/",
          "height": 206
        },
        "id": "tSpoLlon_RUd",
        "outputId": "808782e3-594d-4c70-90aa-e4e539d69d10"
      },
      "outputs": [
        {
          "output_type": "execute_result",
          "data": {
            "text/plain": [
              "     Student Teacher  Gender            Ethnic    Freeredu  Score       wesson\n",
              "212    213.0  Wesson    Male          Hispanic  Free lunch   94.0       Wesson\n",
              "213    214.0  Wesson    Male          Hispanic  Paid lunch   91.0       Wesson\n",
              "214    215.0  Wesson  Female  African-American  Paid lunch   53.0       Wesson\n",
              "215    216.0  Wesson    Male          Hispanic  Paid lunch   57.0       Wesson\n",
              "216      NaN     NaN     NaN               NaN         NaN    NaN  Ruger_Smith"
            ],
            "text/html": [
              "\n",
              "  <div id=\"df-3ce71dbb-519b-40b6-ba05-e262e7b26085\">\n",
              "    <div class=\"colab-df-container\">\n",
              "      <div>\n",
              "<style scoped>\n",
              "    .dataframe tbody tr th:only-of-type {\n",
              "        vertical-align: middle;\n",
              "    }\n",
              "\n",
              "    .dataframe tbody tr th {\n",
              "        vertical-align: top;\n",
              "    }\n",
              "\n",
              "    .dataframe thead th {\n",
              "        text-align: right;\n",
              "    }\n",
              "</style>\n",
              "<table border=\"1\" class=\"dataframe\">\n",
              "  <thead>\n",
              "    <tr style=\"text-align: right;\">\n",
              "      <th></th>\n",
              "      <th>Student</th>\n",
              "      <th>Teacher</th>\n",
              "      <th>Gender</th>\n",
              "      <th>Ethnic</th>\n",
              "      <th>Freeredu</th>\n",
              "      <th>Score</th>\n",
              "      <th>wesson</th>\n",
              "    </tr>\n",
              "  </thead>\n",
              "  <tbody>\n",
              "    <tr>\n",
              "      <th>212</th>\n",
              "      <td>213.0</td>\n",
              "      <td>Wesson</td>\n",
              "      <td>Male</td>\n",
              "      <td>Hispanic</td>\n",
              "      <td>Free lunch</td>\n",
              "      <td>94.0</td>\n",
              "      <td>Wesson</td>\n",
              "    </tr>\n",
              "    <tr>\n",
              "      <th>213</th>\n",
              "      <td>214.0</td>\n",
              "      <td>Wesson</td>\n",
              "      <td>Male</td>\n",
              "      <td>Hispanic</td>\n",
              "      <td>Paid lunch</td>\n",
              "      <td>91.0</td>\n",
              "      <td>Wesson</td>\n",
              "    </tr>\n",
              "    <tr>\n",
              "      <th>214</th>\n",
              "      <td>215.0</td>\n",
              "      <td>Wesson</td>\n",
              "      <td>Female</td>\n",
              "      <td>African-American</td>\n",
              "      <td>Paid lunch</td>\n",
              "      <td>53.0</td>\n",
              "      <td>Wesson</td>\n",
              "    </tr>\n",
              "    <tr>\n",
              "      <th>215</th>\n",
              "      <td>216.0</td>\n",
              "      <td>Wesson</td>\n",
              "      <td>Male</td>\n",
              "      <td>Hispanic</td>\n",
              "      <td>Paid lunch</td>\n",
              "      <td>57.0</td>\n",
              "      <td>Wesson</td>\n",
              "    </tr>\n",
              "    <tr>\n",
              "      <th>216</th>\n",
              "      <td>NaN</td>\n",
              "      <td>NaN</td>\n",
              "      <td>NaN</td>\n",
              "      <td>NaN</td>\n",
              "      <td>NaN</td>\n",
              "      <td>NaN</td>\n",
              "      <td>Ruger_Smith</td>\n",
              "    </tr>\n",
              "  </tbody>\n",
              "</table>\n",
              "</div>\n",
              "      <button class=\"colab-df-convert\" onclick=\"convertToInteractive('df-3ce71dbb-519b-40b6-ba05-e262e7b26085')\"\n",
              "              title=\"Convert this dataframe to an interactive table.\"\n",
              "              style=\"display:none;\">\n",
              "        \n",
              "  <svg xmlns=\"http://www.w3.org/2000/svg\" height=\"24px\"viewBox=\"0 0 24 24\"\n",
              "       width=\"24px\">\n",
              "    <path d=\"M0 0h24v24H0V0z\" fill=\"none\"/>\n",
              "    <path d=\"M18.56 5.44l.94 2.06.94-2.06 2.06-.94-2.06-.94-.94-2.06-.94 2.06-2.06.94zm-11 1L8.5 8.5l.94-2.06 2.06-.94-2.06-.94L8.5 2.5l-.94 2.06-2.06.94zm10 10l.94 2.06.94-2.06 2.06-.94-2.06-.94-.94-2.06-.94 2.06-2.06.94z\"/><path d=\"M17.41 7.96l-1.37-1.37c-.4-.4-.92-.59-1.43-.59-.52 0-1.04.2-1.43.59L10.3 9.45l-7.72 7.72c-.78.78-.78 2.05 0 2.83L4 21.41c.39.39.9.59 1.41.59.51 0 1.02-.2 1.41-.59l7.78-7.78 2.81-2.81c.8-.78.8-2.07 0-2.86zM5.41 20L4 18.59l7.72-7.72 1.47 1.35L5.41 20z\"/>\n",
              "  </svg>\n",
              "      </button>\n",
              "      \n",
              "  <style>\n",
              "    .colab-df-container {\n",
              "      display:flex;\n",
              "      flex-wrap:wrap;\n",
              "      gap: 12px;\n",
              "    }\n",
              "\n",
              "    .colab-df-convert {\n",
              "      background-color: #E8F0FE;\n",
              "      border: none;\n",
              "      border-radius: 50%;\n",
              "      cursor: pointer;\n",
              "      display: none;\n",
              "      fill: #1967D2;\n",
              "      height: 32px;\n",
              "      padding: 0 0 0 0;\n",
              "      width: 32px;\n",
              "    }\n",
              "\n",
              "    .colab-df-convert:hover {\n",
              "      background-color: #E2EBFA;\n",
              "      box-shadow: 0px 1px 2px rgba(60, 64, 67, 0.3), 0px 1px 3px 1px rgba(60, 64, 67, 0.15);\n",
              "      fill: #174EA6;\n",
              "    }\n",
              "\n",
              "    [theme=dark] .colab-df-convert {\n",
              "      background-color: #3B4455;\n",
              "      fill: #D2E3FC;\n",
              "    }\n",
              "\n",
              "    [theme=dark] .colab-df-convert:hover {\n",
              "      background-color: #434B5C;\n",
              "      box-shadow: 0px 1px 3px 1px rgba(0, 0, 0, 0.15);\n",
              "      filter: drop-shadow(0px 1px 2px rgba(0, 0, 0, 0.3));\n",
              "      fill: #FFFFFF;\n",
              "    }\n",
              "  </style>\n",
              "\n",
              "      <script>\n",
              "        const buttonEl =\n",
              "          document.querySelector('#df-3ce71dbb-519b-40b6-ba05-e262e7b26085 button.colab-df-convert');\n",
              "        buttonEl.style.display =\n",
              "          google.colab.kernel.accessAllowed ? 'block' : 'none';\n",
              "\n",
              "        async function convertToInteractive(key) {\n",
              "          const element = document.querySelector('#df-3ce71dbb-519b-40b6-ba05-e262e7b26085');\n",
              "          const dataTable =\n",
              "            await google.colab.kernel.invokeFunction('convertToInteractive',\n",
              "                                                     [key], {});\n",
              "          if (!dataTable) return;\n",
              "\n",
              "          const docLinkHtml = 'Like what you see? Visit the ' +\n",
              "            '<a target=\"_blank\" href=https://colab.research.google.com/notebooks/data_table.ipynb>data table notebook</a>'\n",
              "            + ' to learn more about interactive tables.';\n",
              "          element.innerHTML = '';\n",
              "          dataTable['output_type'] = 'display_data';\n",
              "          await google.colab.output.renderOutput(dataTable, element);\n",
              "          const docLink = document.createElement('div');\n",
              "          docLink.innerHTML = docLinkHtml;\n",
              "          element.appendChild(docLink);\n",
              "        }\n",
              "      </script>\n",
              "    </div>\n",
              "  </div>\n",
              "  "
            ]
          },
          "metadata": {},
          "execution_count": 6
        }
      ],
      "source": [
        "df.tail()\n"
      ]
    },
    {
      "cell_type": "code",
      "execution_count": 7,
      "metadata": {
        "colab": {
          "base_uri": "https://localhost:8080/"
        },
        "id": "Hk82lTm5Z3jL",
        "outputId": "8ee58717-fa17-4644-e644-62e2d294f02d"
      },
      "outputs": [
        {
          "output_type": "stream",
          "name": "stdout",
          "text": [
            "<class 'pandas.core.frame.DataFrame'>\n",
            "RangeIndex: 217 entries, 0 to 216\n",
            "Data columns (total 7 columns):\n",
            " #   Column    Non-Null Count  Dtype   \n",
            "---  ------    --------------  -----   \n",
            " 0   Student   216 non-null    float64 \n",
            " 1   Teacher   216 non-null    category\n",
            " 2   Gender    216 non-null    category\n",
            " 3   Ethnic    216 non-null    category\n",
            " 4   Freeredu  216 non-null    category\n",
            " 5   Score     216 non-null    float64 \n",
            " 6   wesson    217 non-null    category\n",
            "dtypes: category(5), float64(2)\n",
            "memory usage: 5.3 KB\n"
          ]
        }
      ],
      "source": [
        "df.info()"
      ]
    },
    {
      "cell_type": "code",
      "execution_count": 8,
      "metadata": {
        "colab": {
          "base_uri": "https://localhost:8080/"
        },
        "id": "GdCex4I0Z6AM",
        "outputId": "47526eea-e1a3-45da-d418-fee8b3beccd6"
      },
      "outputs": [
        {
          "output_type": "execute_result",
          "data": {
            "text/plain": [
              "(217, 7)"
            ]
          },
          "metadata": {},
          "execution_count": 8
        }
      ],
      "source": [
        "df.shape"
      ]
    },
    {
      "cell_type": "code",
      "execution_count": 9,
      "metadata": {
        "colab": {
          "base_uri": "https://localhost:8080/"
        },
        "id": "hlXkcg3vF-lO",
        "outputId": "154b8c9d-7b2c-4f34-9d57-1564fd0c97f0"
      },
      "outputs": [
        {
          "output_type": "stream",
          "name": "stdout",
          "text": [
            "Teacher : Ruger\n",
            "Teacher : Smith\n",
            "Teacher : Wesson\n",
            "Gender : Female\n",
            "Gender : Male\n",
            "Ethnic : Asian\n",
            "Ethnic : Hispanic\n",
            "Ethnic : African-American\n",
            "Ethnic : Caucasian\n",
            "Freeredu : Free lunch\n",
            "Freeredu : Paid lunch\n",
            "wesson : Ruger_Smith\n",
            "wesson : Wesson\n"
          ]
        }
      ],
      "source": [
        "for col in df.columns:\n",
        "  for val in df[col].unique():\n",
        "    if type(val) == str:\n",
        "      print(col + ' :',val)\n",
        "    else:\n",
        "      continue\n",
        "\n"
      ]
    },
    {
      "cell_type": "markdown",
      "metadata": {
        "id": "iKyE5-LC-Ikr"
      },
      "source": [
        "<h1>Proses Data Cleansing<h1>"
      ]
    },
    {
      "cell_type": "code",
      "execution_count": 10,
      "metadata": {
        "id": "ca26ipov_BYD"
      },
      "outputs": [],
      "source": [
        " df.dropna(inplace = True)"
      ]
    },
    {
      "cell_type": "code",
      "execution_count": 11,
      "metadata": {
        "colab": {
          "base_uri": "https://localhost:8080/"
        },
        "id": "uepj5bbhwPU-",
        "outputId": "1a06b48b-af1a-4d04-819d-39ba03f33c61"
      },
      "outputs": [
        {
          "output_type": "execute_result",
          "data": {
            "text/plain": [
              "Student     0\n",
              "Teacher     0\n",
              "Gender      0\n",
              "Ethnic      0\n",
              "Freeredu    0\n",
              "Score       0\n",
              "wesson      0\n",
              "dtype: int64"
            ]
          },
          "metadata": {},
          "execution_count": 11
        }
      ],
      "source": [
        "df.isna().sum()"
      ]
    },
    {
      "cell_type": "code",
      "execution_count": 12,
      "metadata": {
        "id": "fbf44fOd-a9f"
      },
      "outputs": [],
      "source": [
        "df['Learning Method'] = df['Teacher'].map(lambda x :'Traditional Method' if 'Wesson' in x else 'Standard Method')"
      ]
    },
    {
      "cell_type": "code",
      "execution_count": 13,
      "metadata": {
        "id": "ABpKJE6mBr-q"
      },
      "outputs": [],
      "source": [
        "del df['wesson']"
      ]
    },
    {
      "cell_type": "code",
      "execution_count": 14,
      "metadata": {
        "colab": {
          "base_uri": "https://localhost:8080/",
          "height": 206
        },
        "id": "OD6_oVHEAiPa",
        "outputId": "e02c15fb-69fe-4eb0-dc34-32b72747e23a"
      },
      "outputs": [
        {
          "output_type": "execute_result",
          "data": {
            "text/plain": [
              "     Student Teacher  Gender            Ethnic    Freeredu  Score  \\\n",
              "211    212.0  Wesson    Male  African-American  Paid lunch   56.0   \n",
              "212    213.0  Wesson    Male          Hispanic  Free lunch   94.0   \n",
              "213    214.0  Wesson    Male          Hispanic  Paid lunch   91.0   \n",
              "214    215.0  Wesson  Female  African-American  Paid lunch   53.0   \n",
              "215    216.0  Wesson    Male          Hispanic  Paid lunch   57.0   \n",
              "\n",
              "        Learning Method  \n",
              "211  Traditional Method  \n",
              "212  Traditional Method  \n",
              "213  Traditional Method  \n",
              "214  Traditional Method  \n",
              "215  Traditional Method  "
            ],
            "text/html": [
              "\n",
              "  <div id=\"df-e5395ed8-ca98-40ec-be52-a9911c43f738\">\n",
              "    <div class=\"colab-df-container\">\n",
              "      <div>\n",
              "<style scoped>\n",
              "    .dataframe tbody tr th:only-of-type {\n",
              "        vertical-align: middle;\n",
              "    }\n",
              "\n",
              "    .dataframe tbody tr th {\n",
              "        vertical-align: top;\n",
              "    }\n",
              "\n",
              "    .dataframe thead th {\n",
              "        text-align: right;\n",
              "    }\n",
              "</style>\n",
              "<table border=\"1\" class=\"dataframe\">\n",
              "  <thead>\n",
              "    <tr style=\"text-align: right;\">\n",
              "      <th></th>\n",
              "      <th>Student</th>\n",
              "      <th>Teacher</th>\n",
              "      <th>Gender</th>\n",
              "      <th>Ethnic</th>\n",
              "      <th>Freeredu</th>\n",
              "      <th>Score</th>\n",
              "      <th>Learning Method</th>\n",
              "    </tr>\n",
              "  </thead>\n",
              "  <tbody>\n",
              "    <tr>\n",
              "      <th>211</th>\n",
              "      <td>212.0</td>\n",
              "      <td>Wesson</td>\n",
              "      <td>Male</td>\n",
              "      <td>African-American</td>\n",
              "      <td>Paid lunch</td>\n",
              "      <td>56.0</td>\n",
              "      <td>Traditional Method</td>\n",
              "    </tr>\n",
              "    <tr>\n",
              "      <th>212</th>\n",
              "      <td>213.0</td>\n",
              "      <td>Wesson</td>\n",
              "      <td>Male</td>\n",
              "      <td>Hispanic</td>\n",
              "      <td>Free lunch</td>\n",
              "      <td>94.0</td>\n",
              "      <td>Traditional Method</td>\n",
              "    </tr>\n",
              "    <tr>\n",
              "      <th>213</th>\n",
              "      <td>214.0</td>\n",
              "      <td>Wesson</td>\n",
              "      <td>Male</td>\n",
              "      <td>Hispanic</td>\n",
              "      <td>Paid lunch</td>\n",
              "      <td>91.0</td>\n",
              "      <td>Traditional Method</td>\n",
              "    </tr>\n",
              "    <tr>\n",
              "      <th>214</th>\n",
              "      <td>215.0</td>\n",
              "      <td>Wesson</td>\n",
              "      <td>Female</td>\n",
              "      <td>African-American</td>\n",
              "      <td>Paid lunch</td>\n",
              "      <td>53.0</td>\n",
              "      <td>Traditional Method</td>\n",
              "    </tr>\n",
              "    <tr>\n",
              "      <th>215</th>\n",
              "      <td>216.0</td>\n",
              "      <td>Wesson</td>\n",
              "      <td>Male</td>\n",
              "      <td>Hispanic</td>\n",
              "      <td>Paid lunch</td>\n",
              "      <td>57.0</td>\n",
              "      <td>Traditional Method</td>\n",
              "    </tr>\n",
              "  </tbody>\n",
              "</table>\n",
              "</div>\n",
              "      <button class=\"colab-df-convert\" onclick=\"convertToInteractive('df-e5395ed8-ca98-40ec-be52-a9911c43f738')\"\n",
              "              title=\"Convert this dataframe to an interactive table.\"\n",
              "              style=\"display:none;\">\n",
              "        \n",
              "  <svg xmlns=\"http://www.w3.org/2000/svg\" height=\"24px\"viewBox=\"0 0 24 24\"\n",
              "       width=\"24px\">\n",
              "    <path d=\"M0 0h24v24H0V0z\" fill=\"none\"/>\n",
              "    <path d=\"M18.56 5.44l.94 2.06.94-2.06 2.06-.94-2.06-.94-.94-2.06-.94 2.06-2.06.94zm-11 1L8.5 8.5l.94-2.06 2.06-.94-2.06-.94L8.5 2.5l-.94 2.06-2.06.94zm10 10l.94 2.06.94-2.06 2.06-.94-2.06-.94-.94-2.06-.94 2.06-2.06.94z\"/><path d=\"M17.41 7.96l-1.37-1.37c-.4-.4-.92-.59-1.43-.59-.52 0-1.04.2-1.43.59L10.3 9.45l-7.72 7.72c-.78.78-.78 2.05 0 2.83L4 21.41c.39.39.9.59 1.41.59.51 0 1.02-.2 1.41-.59l7.78-7.78 2.81-2.81c.8-.78.8-2.07 0-2.86zM5.41 20L4 18.59l7.72-7.72 1.47 1.35L5.41 20z\"/>\n",
              "  </svg>\n",
              "      </button>\n",
              "      \n",
              "  <style>\n",
              "    .colab-df-container {\n",
              "      display:flex;\n",
              "      flex-wrap:wrap;\n",
              "      gap: 12px;\n",
              "    }\n",
              "\n",
              "    .colab-df-convert {\n",
              "      background-color: #E8F0FE;\n",
              "      border: none;\n",
              "      border-radius: 50%;\n",
              "      cursor: pointer;\n",
              "      display: none;\n",
              "      fill: #1967D2;\n",
              "      height: 32px;\n",
              "      padding: 0 0 0 0;\n",
              "      width: 32px;\n",
              "    }\n",
              "\n",
              "    .colab-df-convert:hover {\n",
              "      background-color: #E2EBFA;\n",
              "      box-shadow: 0px 1px 2px rgba(60, 64, 67, 0.3), 0px 1px 3px 1px rgba(60, 64, 67, 0.15);\n",
              "      fill: #174EA6;\n",
              "    }\n",
              "\n",
              "    [theme=dark] .colab-df-convert {\n",
              "      background-color: #3B4455;\n",
              "      fill: #D2E3FC;\n",
              "    }\n",
              "\n",
              "    [theme=dark] .colab-df-convert:hover {\n",
              "      background-color: #434B5C;\n",
              "      box-shadow: 0px 1px 3px 1px rgba(0, 0, 0, 0.15);\n",
              "      filter: drop-shadow(0px 1px 2px rgba(0, 0, 0, 0.3));\n",
              "      fill: #FFFFFF;\n",
              "    }\n",
              "  </style>\n",
              "\n",
              "      <script>\n",
              "        const buttonEl =\n",
              "          document.querySelector('#df-e5395ed8-ca98-40ec-be52-a9911c43f738 button.colab-df-convert');\n",
              "        buttonEl.style.display =\n",
              "          google.colab.kernel.accessAllowed ? 'block' : 'none';\n",
              "\n",
              "        async function convertToInteractive(key) {\n",
              "          const element = document.querySelector('#df-e5395ed8-ca98-40ec-be52-a9911c43f738');\n",
              "          const dataTable =\n",
              "            await google.colab.kernel.invokeFunction('convertToInteractive',\n",
              "                                                     [key], {});\n",
              "          if (!dataTable) return;\n",
              "\n",
              "          const docLinkHtml = 'Like what you see? Visit the ' +\n",
              "            '<a target=\"_blank\" href=https://colab.research.google.com/notebooks/data_table.ipynb>data table notebook</a>'\n",
              "            + ' to learn more about interactive tables.';\n",
              "          element.innerHTML = '';\n",
              "          dataTable['output_type'] = 'display_data';\n",
              "          await google.colab.output.renderOutput(dataTable, element);\n",
              "          const docLink = document.createElement('div');\n",
              "          docLink.innerHTML = docLinkHtml;\n",
              "          element.appendChild(docLink);\n",
              "        }\n",
              "      </script>\n",
              "    </div>\n",
              "  </div>\n",
              "  "
            ]
          },
          "metadata": {},
          "execution_count": 14
        }
      ],
      "source": [
        "df.tail()"
      ]
    },
    {
      "cell_type": "markdown",
      "metadata": {
        "id": "aiuCaN7H2dkA"
      },
      "source": [
        "<h1>Analisis Nilai</h1>"
      ]
    },
    {
      "cell_type": "code",
      "execution_count": 15,
      "metadata": {
        "colab": {
          "base_uri": "https://localhost:8080/"
        },
        "id": "V7u3KCEGGzTs",
        "outputId": "f8c537c0-26f8-4942-aed9-84584fdad3ae"
      },
      "outputs": [
        {
          "output_type": "execute_result",
          "data": {
            "text/plain": [
              "65.27314814814815"
            ]
          },
          "metadata": {},
          "execution_count": 15
        }
      ],
      "source": [
        "df.Score.mean()"
      ]
    },
    {
      "cell_type": "code",
      "execution_count": 16,
      "metadata": {
        "colab": {
          "base_uri": "https://localhost:8080/"
        },
        "id": "7NFBq0t--xon",
        "outputId": "df7c2df5-745c-4136-d069-364866ee3f93"
      },
      "outputs": [
        {
          "output_type": "execute_result",
          "data": {
            "text/plain": [
              "Ethnic            Gender\n",
              "African-American  Female    66.050000\n",
              "                  Male      66.343750\n",
              "Asian             Female    68.384615\n",
              "                  Male      63.111111\n",
              "Caucasian         Female    70.631579\n",
              "                  Male      59.730769\n",
              "Hispanic          Female    66.258065\n",
              "                  Male      63.542857\n",
              "Name: Score, dtype: float64"
            ]
          },
          "metadata": {},
          "execution_count": 16
        }
      ],
      "source": [
        "df.groupby(['Ethnic','Gender'])['Score'].mean()"
      ]
    },
    {
      "cell_type": "code",
      "execution_count": 17,
      "metadata": {
        "colab": {
          "base_uri": "https://localhost:8080/"
        },
        "id": "5YRZhTmNG2ds",
        "outputId": "3d42ce46-1c73-4409-ae8a-6ad0711c0bc1"
      },
      "outputs": [
        {
          "output_type": "execute_result",
          "data": {
            "text/plain": [
              "Learning Method\n",
              "Standard Method       62.335714\n",
              "Traditional Method    70.684211\n",
              "Name: Score, dtype: float64"
            ]
          },
          "metadata": {},
          "execution_count": 17
        }
      ],
      "source": [
        "df.groupby(['Learning Method'])['Score'].mean()\n"
      ]
    },
    {
      "cell_type": "code",
      "execution_count": 18,
      "metadata": {
        "colab": {
          "base_uri": "https://localhost:8080/"
        },
        "id": "Co6SJZXLN_wP",
        "outputId": "da6f32ef-d812-479f-bfcd-4740277ff083"
      },
      "outputs": [
        {
          "output_type": "execute_result",
          "data": {
            "text/plain": [
              "Ethnic            Learning Method   \n",
              "African-American  Standard Method       62.705882\n",
              "                  Traditional Method    72.888889\n",
              "Asian             Standard Method       62.459459\n",
              "                  Traditional Method    73.187500\n",
              "Caucasian         Standard Method       62.884615\n",
              "                  Traditional Method    66.315789\n",
              "Hispanic          Standard Method       61.604651\n",
              "                  Traditional Method    70.826087\n",
              "Name: Score, dtype: float64"
            ]
          },
          "metadata": {},
          "execution_count": 18
        }
      ],
      "source": [
        "df.groupby(['Ethnic','Learning Method'])['Score'].mean()"
      ]
    },
    {
      "cell_type": "code",
      "execution_count": 19,
      "metadata": {
        "colab": {
          "base_uri": "https://localhost:8080/"
        },
        "id": "qdh7M2PIXgBd",
        "outputId": "9f9f494a-4391-4134-bfe0-1d8d19fb5d73"
      },
      "outputs": [
        {
          "output_type": "execute_result",
          "data": {
            "text/plain": [
              "Teacher\n",
              "Ruger     55.267606\n",
              "Smith     69.608696\n",
              "Wesson    70.684211\n",
              "Name: Score, dtype: float64"
            ]
          },
          "metadata": {},
          "execution_count": 19
        }
      ],
      "source": [
        "df.groupby('Teacher')['Score'].mean()"
      ]
    },
    {
      "cell_type": "code",
      "execution_count": 20,
      "metadata": {
        "colab": {
          "base_uri": "https://localhost:8080/"
        },
        "id": "ufWO39XjNmCP",
        "outputId": "04daea51-4203-4e22-cc3e-1a1d89bbffb6"
      },
      "outputs": [
        {
          "output_type": "execute_result",
          "data": {
            "text/plain": [
              "Teacher  Ethnic          \n",
              "Ruger    African-American    55.222222\n",
              "         Asian               53.705882\n",
              "         Caucasian           56.909091\n",
              "         Hispanic            55.640000\n",
              "Smith    African-American    71.125000\n",
              "         Asian               69.900000\n",
              "         Caucasian           67.266667\n",
              "         Hispanic            69.888889\n",
              "Wesson   African-American    72.888889\n",
              "         Asian               73.187500\n",
              "         Caucasian           66.315789\n",
              "         Hispanic            70.826087\n",
              "Name: Score, dtype: float64"
            ]
          },
          "metadata": {},
          "execution_count": 20
        }
      ],
      "source": [
        "df.groupby(['Teacher','Ethnic'])['Score'].mean()"
      ]
    },
    {
      "cell_type": "code",
      "execution_count": 21,
      "metadata": {
        "colab": {
          "base_uri": "https://localhost:8080/"
        },
        "id": "HKY8WIG7N2wR",
        "outputId": "5b8df149-8bd7-4e3e-df0c-b2c8d425c9bb"
      },
      "outputs": [
        {
          "output_type": "execute_result",
          "data": {
            "text/plain": [
              "Freeredu\n",
              "Free lunch    66.028846\n",
              "Paid lunch    64.571429\n",
              "Name: Score, dtype: float64"
            ]
          },
          "metadata": {},
          "execution_count": 21
        }
      ],
      "source": [
        "df.groupby(['Freeredu'])['Score'].mean()"
      ]
    },
    {
      "cell_type": "markdown",
      "metadata": {
        "id": "2tl4rMzsr4AU"
      },
      "source": [
        "<h1>Data Visualisasi</h1>"
      ]
    },
    {
      "cell_type": "markdown",
      "metadata": {
        "id": "s1cc1vohDQTI"
      },
      "source": [
        "Demografi Siswa"
      ]
    },
    {
      "cell_type": "code",
      "execution_count": 22,
      "metadata": {
        "colab": {
          "base_uri": "https://localhost:8080/",
          "height": 432
        },
        "id": "6HcDCrvNDlhL",
        "outputId": "102bc623-18f6-4a8d-a65c-1dbf7554484a"
      },
      "outputs": [
        {
          "output_type": "display_data",
          "data": {
            "text/plain": [
              "<Figure size 504x504 with 1 Axes>"
            ],
            "image/png": "[encoded data removed]"
          },
          "metadata": {}
        }
      ],
      "source": [
        "plt.figure(figsize = (7,7))\n",
        "plt.pie(df.loc[:,'Ethnic'].value_counts().values, labels = df.loc[:,'Ethnic'].unique(), autopct='%.2f',textprops={'fontsize': 14})\n",
        "plt.title('Persentase Siswa Berdasarkan Etnis',fontsize=20)\n",
        "plt.show()"
      ]
    },
    {
      "cell_type": "code",
      "execution_count": 23,
      "metadata": {
        "colab": {
          "base_uri": "https://localhost:8080/",
          "height": 395
        },
        "id": "JIarJRY4AYIY",
        "outputId": "b671ba2b-8d8c-47ec-f88f-12b9b762aaac"
      },
      "outputs": [
        {
          "output_type": "display_data",
          "data": {
            "text/plain": [
              "<Figure size 720x1080 with 0 Axes>"
            ]
          },
          "metadata": {}
        },
        {
          "output_type": "display_data",
          "data": {
            "text/plain": [
              "<Figure size 432x288 with 1 Axes>"
            ],
            "image/png": "[encoded data removed]"
          },
          "metadata": {
            "needs_background": "light"
          }
        }
      ],
      "source": [
        "ethnic_gender = pd.pivot_table(df, index = 'Ethnic', columns = 'Gender', aggfunc = 'count', values = 'Score')\n",
        "plt.figure(figsize =(10,15))\n",
        "ethnic_gender.plot(kind = 'bar')\n",
        "plt.title('Jumlah Siswa Berdasarkan Etnis',fontsize=15)\n",
        "plt.xlabel('Etnis',fontsize=15)\n",
        "plt.ylabel('Jumlah Siswa',fontsize=15)\n",
        "plt.show()"
      ]
    },
    {
      "cell_type": "markdown",
      "metadata": {
        "id": "41YPOZvy3GlP"
      },
      "source": [
        "Rata-Rata Nilai Siswa Berdasarkan Etnis\n",
        "\n"
      ]
    },
    {
      "cell_type": "code",
      "execution_count": 24,
      "metadata": {
        "colab": {
          "base_uri": "https://localhost:8080/",
          "height": 360
        },
        "id": "ytWLNM_7GuhM",
        "outputId": "49778919-5b2e-41c3-9da5-d87710970a6e"
      },
      "outputs": [
        {
          "output_type": "display_data",
          "data": {
            "text/plain": [
              "<Figure size 720x360 with 1 Axes>"
            ],
            "image/png": "[encoded data removed]"
          },
          "metadata": {
            "needs_background": "light"
          }
        }
      ],
      "source": [
        "plt.figure(figsize=(10,5))\n",
        "ax = sns.barplot(x = 'Ethnic', y = 'Score' , hue = 'Gender',data = df, ci = None, palette = 'hls')\n",
        "plt.ylabel('Nilai',fontsize=15)\n",
        "plt.xlabel('Etnis',fontsize=15)\n",
        "plt.title('Rata-Rata Nilai Berdasarkan Etnis',fontsize=20,color='red')\n",
        "plt.legend(bbox_to_anchor=(1.05, 1), loc='upper left')\n",
        "for container in ax.containers:\n",
        "    ax.bar_label(container)\n",
        "\n"
      ]
    },
    {
      "cell_type": "markdown",
      "metadata": {
        "id": "5FZqDmzzIfjM"
      },
      "source": [
        "Rata-Rata Nilai Siswa Berdasarkan Metode Belajar"
      ]
    },
    {
      "cell_type": "code",
      "execution_count": 25,
      "metadata": {
        "colab": {
          "base_uri": "https://localhost:8080/",
          "height": 428
        },
        "id": "Ld-ZvjLsUywV",
        "outputId": "f032aa5f-6937-492b-ad31-1f2b3ab5c13f"
      },
      "outputs": [
        {
          "output_type": "execute_result",
          "data": {
            "text/plain": [
              "[Text(0, 0, '62.3357'), Text(0, 0, '70.6842')]"
            ]
          },
          "metadata": {},
          "execution_count": 25
        },
        {
          "output_type": "display_data",
          "data": {
            "text/plain": [
              "<Figure size 576x432 with 1 Axes>"
            ],
            "image/png": "[encoded data removed]"
          },
          "metadata": {
            "needs_background": "light"
          }
        }
      ],
      "source": [
        "plt.figure(figsize=(8,6))\n",
        "ax = sns.barplot(x = 'Learning Method', y = 'Score',data=df,ci=None,palette='mako')\n",
        "plt.title('Rata-Rata Nilai Berdasarkan Metode Belajar',fontsize=15,color='green')\n",
        "plt.ylabel('Nilai',fontsize=16)\n",
        "plt.xlabel('Metode Belajar',fontsize=16)\n",
        "ax.bar_label(ax.containers[0],size=12)\n"
      ]
    },
    {
      "cell_type": "code",
      "execution_count": 26,
      "metadata": {
        "colab": {
          "base_uri": "https://localhost:8080/",
          "height": 411
        },
        "id": "MRpIXElg_8Xj",
        "outputId": "38cd1034-d4bb-4b09-8649-cb1d6c55ab4d"
      },
      "outputs": [
        {
          "output_type": "display_data",
          "data": {
            "text/plain": [
              "<Figure size 576x432 with 1 Axes>"
            ],
            "image/png": "[encoded data removed]"
          },
          "metadata": {
            "needs_background": "light"
          }
        }
      ],
      "source": [
        "plt.figure(figsize=(8,6))\n",
        "ax = sns.barplot(x = 'Ethnic', y = 'Score',hue ='Learning Method',data=df,ci=None,palette='Blues')\n",
        "plt.title('Rata-Rata Nilai Berdasarkan Metode Belajar',fontsize=15,color='green')\n",
        "plt.ylabel('Nilai',fontsize=16)\n",
        "plt.xlabel('Etnis',fontsize=16)\n",
        "plt.legend(bbox_to_anchor=(1, 1), loc='upper left',title='Metode Belajar',fontsize=12)\n",
        "for container in ax.containers:\n",
        "  ax.bar_label(container,size=11)\n"
      ]
    },
    {
      "cell_type": "markdown",
      "metadata": {
        "id": "X-u-ky7phYYL"
      },
      "source": [
        "Rata-Rata Nilai Matematika berdasarkan Guru yang Mengajar"
      ]
    },
    {
      "cell_type": "code",
      "execution_count": 27,
      "metadata": {
        "colab": {
          "base_uri": "https://localhost:8080/",
          "height": 484
        },
        "id": "xaXBS3SPJ7nC",
        "outputId": "d5e33d4c-f33a-4b4d-b1c5-ff74d842ee5b"
      },
      "outputs": [
        {
          "output_type": "execute_result",
          "data": {
            "text/plain": [
              "[Text(0, 0, '55.2676'), Text(0, 0, '69.6087'), Text(0, 0, '70.6842')]"
            ]
          },
          "metadata": {},
          "execution_count": 27
        },
        {
          "output_type": "display_data",
          "data": {
            "text/plain": [
              "<Figure size 504x504 with 1 Axes>"
            ],
            "image/png": "[encoded data removed]"
          },
          "metadata": {
            "needs_background": "light"
          }
        }
      ],
      "source": [
        "plt.figure(figsize=(7,7))\n",
        "ax = sns.barplot(x='Teacher', y='Score', data=df, palette='CMRmap_r',ci=None)\n",
        "plt.title('Rata-Rata Nilai Matematika berdasarkan Guru yang Mengajar',fontsize=18)\n",
        "plt.xlabel('Nama Guru',fontsize=15)\n",
        "plt.ylabel('Nilai',fontsize=15)\n",
        "ax.bar_label(ax.containers[0])"
      ]
    },
    {
      "cell_type": "code",
      "execution_count": 28,
      "metadata": {
        "colab": {
          "base_uri": "https://localhost:8080/",
          "height": 300
        },
        "id": "54dxvOM3jVVY",
        "outputId": "b4afdd52-5652-450e-de0e-c4d3d296c4e1"
      },
      "outputs": [
        {
          "output_type": "display_data",
          "data": {
            "text/plain": [
              "<Figure size 432x288 with 1 Axes>"
            ],
            "image/png": "[encoded data removed]"
          },
          "metadata": {
            "needs_background": "light"
          }
        }
      ],
      "source": [
        "teacher_score = pd.pivot_table(df, index = 'Ethnic', columns = 'Teacher', aggfunc = 'mean', values = 'Score')\n",
        "ax = teacher_score.round().plot(kind='barh')\n",
        "plt.title('Rata-Rata Nilai Matematika berdasarkan Guru yang Mengajar',fontsize=15)\n",
        "plt.xlabel('Nama Guru',fontsize=12)\n",
        "plt.ylabel('Nilai',fontsize=12)\n",
        "plt.legend(bbox_to_anchor=(1,1),loc='upper left')\n",
        "for container in ax.containers:\n",
        "  ax.bar_label(container,size=11)\n",
        "plt.show()"
      ]
    },
    {
      "cell_type": "code",
      "execution_count": 29,
      "metadata": {
        "colab": {
          "base_uri": "https://localhost:8080/",
          "height": 376
        },
        "id": "1k4_T6oFkaGY",
        "outputId": "69b2cc84-a67e-4986-8b0a-cf36f63ca805"
      },
      "outputs": [
        {
          "output_type": "execute_result",
          "data": {
            "text/plain": [
              "[Text(0, 0, '66.0288'), Text(0, 0, '64.5714')]"
            ]
          },
          "metadata": {},
          "execution_count": 29
        },
        {
          "output_type": "display_data",
          "data": {
            "text/plain": [
              "<Figure size 504x360 with 1 Axes>"
            ],
            "image/png": "[encoded data removed]"
          },
          "metadata": {
            "needs_background": "light"
          }
        }
      ],
      "source": [
        "plt.figure(figsize=(7,5))\n",
        "ax = sns.barplot(x='Freeredu', y='Score', data=df, orient='v',palette='CMRmap_r',ci=None)\n",
        "plt.title('Rata-Rata Nilai Matematika Jenis Makan Siang',fontsize=18)\n",
        "plt.xlabel('Jenis Makan Siang',fontsize=15)\n",
        "plt.ylabel('Nilai',fontsize=15)\n",
        "ax.bar_label(ax.containers[0])"
      ]
    },
    {
      "cell_type": "markdown",
      "source": [
        "<h1>Kesimpulan</h1>"
      ],
      "metadata": {
        "id": "QJxiJkxXKhCW"
      }
    },
    {
      "cell_type": "markdown",
      "source": [
        "Secara keseluruhan metode tradisional yang dibawa oleh Ms. Wesson menghasilkan nilai matematika yang lebih tinggi untuk para siswa dibandingkan metode belajar berbasis standar. Namun, metode pengajaran Ms. Smith cocok untuk siswa Kaukasia karena menghasilkan skor rata-rata yang sedikit lebih tinggi daripada metode Wesson. Analisis juga menunjukkan bahwa metode pengajaran Ruger menghasilkan nilai matematika yang lebih rendah dibandingkan dengan yang lain.\n",
        "\n",
        "Jika kita melihat secara sudut pandang etnis, ras Kaukasia mendapat rata-rata nilai matematika yang tertinggi untuk kategori laki-laki, sedangkan untuk kategori perempuan nilai tertinggi didapat oleh ras Africa-America.\n",
        "\n",
        "Terakhir, siswa yang memenuhi syarat untuk mendapat makanan gratis atau dengan harga yang lebih murah (free lunch) mendapat nilai yang sedikit lebih tinggi dibandingkan siswa yang tidak memenuhi syarat untuk mendapat makanan gratis atau dengan harga yang lebih murah (paid lunch)\n"
      ],
      "metadata": {
        "id": "Tg1U1nceLvqx"
      }
    }
  ],
  "metadata": {
    "colab": {
      "collapsed_sections": [],
      "name": "Analisis Nilai Siswa Matematika.ipynb",
      "provenance": []
    },
    "kernelspec": {
      "display_name": "Python 3",
      "name": "python3"
    },
    "language_info": {
      "name": "python"
    }
  },
  "nbformat": 4,
  "nbformat_minor": 0
}